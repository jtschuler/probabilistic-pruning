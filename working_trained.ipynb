{
 "cells": [
  {
   "cell_type": "code",
   "execution_count": null,
   "metadata": {},
   "outputs": [],
   "source": [
    "import torch\n",
    "import torchvision\n",
    "import torchvision.transforms as transforms\n",
    "from torch.utils.data import DataLoader\n",
    "from torchvision.models.resnet import resnet18  # Using a basic, small ResNet variant\n",
    "from torch import nn\n",
    "\n",
    "# Transformation for CIFAR-10 images\n",
    "transform = transforms.Compose([\n",
    "    transforms.ToTensor(),\n",
    "    transforms.Normalize((0.5, 0.5, 0.5), (0.5, 0.5, 0.5))  # Standard normalization for CIFAR-10\n",
    "])\n",
    "\n",
    "# Load CIFAR-10 dataset\n",
    "trainset = torchvision.datasets.CIFAR10(root='./data', train=True, download=True, transform=transform)\n",
    "trainloader = DataLoader(trainset, batch_size=64, shuffle=True)\n",
    "\n",
    "testset = torchvision.datasets.CIFAR10(root='./data', train=False, download=True, transform=transform)\n",
    "testloader = DataLoader(testset, batch_size=64, shuffle=False)\n",
    "\n",
    "# Modify ResNet for CIFAR-10 (assume using resnet18)\n",
    "model = resnet18()\n",
    "model.conv1 = nn.Conv2d(3, 64, kernel_size=3, stride=1, padding=1, bias=False)  # Adjusting first conv layer to accept 32x32 input\n",
    "model.maxpool = nn.Identity()  # Remove maxpool to keep dimensionality\n",
    "model.fc = nn.Linear(model.fc.in_features, 10)  # Adjusting final fully connected layer for 10 classes\n",
    "\n",
    "# Assuming use of a GPU if available\n",
    "device = torch.device(\"mps\")\n",
    "model.to(device)"
   ]
  },
  {
   "cell_type": "code",
   "execution_count": null,
   "metadata": {},
   "outputs": [],
   "source": [
    "def evaluate_model(model, dataloader):\n",
    "    model.eval()\n",
    "    correct = 0\n",
    "    total = 0\n",
    "    with torch.no_grad():\n",
    "        for data in dataloader:\n",
    "            images, labels = data\n",
    "            images, labels = images.to(device), labels.to(device)\n",
    "            outputs = model(images)\n",
    "            _, predicted = torch.max(outputs.data, 1)\n",
    "            total += labels.size(0)\n",
    "            correct += (predicted == labels).sum().item()\n",
    "\n",
    "    accuracy = 100 * correct / total\n",
    "    print(f'Accuracy of the model on the test images: {accuracy}%')\n",
    "    return accuracy"
   ]
  },
  {
   "cell_type": "code",
   "execution_count": null,
   "metadata": {},
   "outputs": [],
   "source": [
    "import torch.optim as optim\n",
    "from torch import nn\n",
    "\n",
    "# Set up the loss function and optimizer\n",
    "criterion = nn.CrossEntropyLoss()\n",
    "optimizer = optim.SGD(model.parameters(), lr=0.001, momentum=0.9)\n",
    "# Define number of epochs\n",
    "num_epochs = 1\n",
    "\n",
    "for epoch in range(num_epochs):  # Loop over the dataset multiple times\n",
    "    running_loss = 0.0\n",
    "    for i, data in enumerate(trainloader, 0):\n",
    "        # Get the inputs; data is a list of [inputs, labels]\n",
    "        inputs, labels = data[0].to(device), data[1].to(device)\n",
    "\n",
    "        # Zero the parameter gradients\n",
    "        optimizer.zero_grad()\n",
    "\n",
    "        # Forward pass\n",
    "        outputs = model(inputs)\n",
    "        loss = criterion(outputs, labels)\n",
    "\n",
    "        # Backward and optimize\n",
    "        loss.backward()\n",
    "        optimizer.step()\n",
    "\n",
    "        # Print statistics\n",
    "        running_loss += loss.item()\n",
    "        if i % 200 == 199:    # Print every 200 mini-batches\n",
    "            print(f'Epoch {epoch + 1}, Batch {i + 1}: Loss: {running_loss / 200:.4f}')\n",
    "            running_loss = 0.0\n",
    "\n",
    "print('Finished Training')\n",
    "torch.save(model.state_dict(), \"state\")\n",
    "\n",
    "# Evaluate the model\n",
    "evaluate_model(model, testloader)\n"
   ]
  },
  {
   "cell_type": "code",
   "execution_count": null,
   "metadata": {},
   "outputs": [],
   "source": [
    "model = resnet18()  # Not using pre-trained weights\n",
    "model.conv1 = nn.Conv2d(3, 64, kernel_size=3, stride=1, padding=1, bias=False)  # Adjusting first conv layer to accept 32x32 input\n",
    "model.maxpool = nn.Identity()  # Remove maxpool to keep dimensionality\n",
    "model.fc = nn.Linear(model.fc.in_features, 10)  # Adjusting final fully connected layer for 10 classes\n",
    "model.to(device)\n",
    "model.load_state_dict(torch.load(\"state\"))\n"
   ]
  },
  {
   "cell_type": "code",
   "execution_count": null,
   "metadata": {},
   "outputs": [],
   "source": [
    "evaluate_model(model, testloader)\n"
   ]
  },
  {
   "cell_type": "code",
   "execution_count": null,
   "metadata": {},
   "outputs": [],
   "source": [
    "%load_ext autoreload\n",
    "%autoreload now\n",
    "import copy\n",
    "import pruning_funcs\n",
    "import numpy as np\n",
    "\n",
    "percent_prune = []\n",
    "percent_prune_with_bernoulli = []\n",
    "\n",
    "for percent in range(1,6):\n",
    "    pruned_model = copy.deepcopy(model)\n",
    "    pruning_funcs.percent_prune(pruned_model, device, percent=percent)\n",
    "    percent_prune.append(evaluate_model(pruned_model, testloader))\n",
    "\n",
    "    ppwb_runs = []\n",
    "    for i in range(5):\n",
    "        pruned_model_2 = copy.deepcopy(model)\n",
    "        pruning_funcs.percent_prune_with_bernoulli(pruned_model_2, device, percent=(2*percent), p_success=0.5)\n",
    "        ppwb_runs.append(evaluate_model(pruned_model_2, testloader))\n",
    "\n",
    "    percent_prune_with_bernoulli.append(np.mean(ppwb_runs))\n"
   ]
  },
  {
   "cell_type": "code",
   "execution_count": null,
   "metadata": {},
   "outputs": [],
   "source": [
    "import matplotlib.pyplot as plt\n",
    "import numpy as np\n",
    "\n",
    "percents = np.arange(1,6,1)\n",
    "\n",
    "fig, ax = plt.subplots()\n",
    "ax.set_title(\"Percent Pruning\")\n",
    "line1, = ax.plot(percents, percent_prune, color='blue')\n",
    "line2, = ax.plot(percents, percent_prune_with_bernoulli, color='orange')\n",
    "line1.set_label(\"Percent Pruning\")\n",
    "line2.set_label(\"Percent Pruning With Bernoulli (avg)\")\n",
    "ax.legend()\n",
    "ax.set_xlabel(\"Percent pruned (or expected pruned)\")\n",
    "ax.set_ylabel(\"Model accuracy\")\n",
    "ax.set_xticks(percents)\n",
    "fig.show()\n"
   ]
  },
  {
   "cell_type": "code",
   "execution_count": null,
   "metadata": {},
   "outputs": [],
   "source": [
    "# Graph Laplace Distribution\n",
    "import numpy as np\n",
    "import matplotlib.pyplot as plt\n",
    "\n",
    "loc=0\n",
    "scale=0.5\n",
    "\n",
    "x = np.arange(-2, 2, 0.1)\n",
    "\n",
    "pdf = np.exp(-abs(x-loc)/scale)/(2.*scale)\n",
    "new_min = np.exp(-abs(1.-loc)/scale)/(2.*scale)\n",
    "x2 = np.arange(-1, 1, 0.1)\n",
    "modified_pdf = (np.exp(-abs(x2-loc)/scale)/(2.*scale) - np.exp(-abs(1.-loc)/scale)/(2.*scale)) / (1-new_min)\n",
    "\n",
    "fig, ax = plt.subplots()\n",
    "line1, = ax.plot(x, pdf)\n",
    "line1.set_label('Laplace')\n",
    "line2, = ax.plot(x2, modified_pdf)\n",
    "line2.set_label('Normalized Laplace')\n",
    "ax.legend()\n",
    "fig.show()\n"
   ]
  },
  {
   "cell_type": "code",
   "execution_count": null,
   "metadata": {},
   "outputs": [],
   "source": [
    "%load_ext autoreload\n",
    "%autoreload now\n",
    "import pruning_funcs\n",
    "\n",
    "pruned_model = copy.deepcopy(model)\n",
    "pruning_funcs.laplace_prune(pruned_model, device)\n",
    "evaluate_model(pruned_model, testloader)\n"
   ]
  },
  {
   "cell_type": "code",
   "execution_count": null,
   "metadata": {},
   "outputs": [],
   "source": []
  }
 ],
 "metadata": {
  "kernelspec": {
   "display_name": "env",
   "language": "python",
   "name": "python3"
  },
  "language_info": {
   "codemirror_mode": {
    "name": "ipython",
    "version": 3
   },
   "file_extension": ".py",
   "mimetype": "text/x-python",
   "name": "python",
   "nbconvert_exporter": "python",
   "pygments_lexer": "ipython3",
   "version": "3.12.3"
  }
 },
 "nbformat": 4,
 "nbformat_minor": 2
}
