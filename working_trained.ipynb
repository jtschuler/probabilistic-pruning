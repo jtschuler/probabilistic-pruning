{
 "cells": [
  {
   "cell_type": "code",
   "execution_count": 1,
   "metadata": {},
   "outputs": [
    {
     "name": "stdout",
     "output_type": "stream",
     "text": [
      "Files already downloaded and verified\n",
      "Files already downloaded and verified\n",
      "Dataset CIFAR10\n",
      "    Number of datapoints: 50000\n",
      "    Root location: ./data/train\n",
      "    Split: Train\n",
      "    StandardTransform\n",
      "Transform: Compose(\n",
      "               RandomCrop(size=(32, 32), padding=4)\n",
      "               RandomHorizontalFlip(p=0.5)\n",
      "               ToTensor()\n",
      "               Normalize(mean=(0.5, 0.5, 0.5), std=(0.5, 0.5, 0.5))\n",
      "           )\n",
      "Dataset CIFAR10\n",
      "    Number of datapoints: 10000\n",
      "    Root location: ./data/test\n",
      "    Split: Test\n",
      "    StandardTransform\n",
      "Transform: Compose(\n",
      "               ToTensor()\n",
      "               Normalize(mean=(0.5, 0.5, 0.5), std=(0.5, 0.5, 0.5))\n",
      "           )\n",
      "Classes: ['airplane', 'automobile', 'bird', 'cat', 'deer', 'dog', 'frog', 'horse', 'ship', 'truck']\n"
     ]
    }
   ],
   "source": [
    "import torch\n",
    "import torchvision\n",
    "import torchvision.transforms as transforms\n",
    "from torch.utils.data import DataLoader\n",
    "from torchvision.models.resnet import resnet34, resnet18  # Using a basic, small ResNet variant\n",
    "from torch import nn\n",
    "\n",
    "# Transformation for CIFAR-10 images\n",
    "# transform = transforms.Compose([\n",
    "#     transforms.ToTensor(),\n",
    "#     transforms.Normalize((0.5, 0.5, 0.5), (0.5, 0.5, 0.5)),  # Standard normalization for CIFAR-10\n",
    "# ])\n",
    "\n",
    "# Transforms from: https://colab.research.google.com/github/Rakshit-Shetty/Resnet-Implementation/blob/master/ResNet_Implementation_on_CIFAR10.ipynb#scrollTo=l5WmV1je_1kr\n",
    "#Image augmentation is used to train the model\n",
    "transform_train = transforms.Compose([\n",
    "    transforms.RandomCrop(32, padding=4),\n",
    "    transforms.RandomHorizontalFlip(),\n",
    "    transforms.ToTensor(),\n",
    "    # transforms.Normalize((0.4914, 0.4822, 0.4465), (0.2023, 0.1994, 0.2010)),\n",
    "    transforms.Normalize((0.5, 0.5, 0.5), (0.5, 0.5, 0.5)),\n",
    "\n",
    "])\n",
    "#Only the data is normalaized we do not need to augment the test data\n",
    "transform_test = transforms.Compose([\n",
    "    transforms.ToTensor(),\n",
    "    # transforms.Normalize((0.4914, 0.4822, 0.4465), (0.2023, 0.1994, 0.2010)),\n",
    "    transforms.Normalize((0.5, 0.5, 0.5), (0.5, 0.5, 0.5)),\n",
    "])\n",
    "\n",
    "# Load CIFAR-10 dataset\n",
    "trainset = torchvision.datasets.CIFAR10(root='./data/train', train=True, download=True,\n",
    "                                        transform=transform_train)\n",
    "trainloader = DataLoader(trainset, batch_size=64, shuffle=True)\n",
    "\n",
    "testset = torchvision.datasets.CIFAR10(root='./data/test', train=False, download=True,\n",
    "                                        transform=transform_test)\n",
    "testloader = DataLoader(testset, batch_size=64, shuffle=False)\n",
    "\n",
    "classes = ['airplane', 'automobile', 'bird', 'cat', 'deer', 'dog', 'frog', 'horse', 'ship', 'truck']\n",
    "\n",
    "print(trainset)\n",
    "print(testset)\n",
    "print(f'Classes: {classes}')\n",
    "\n",
    "# Modify ResNet for CIFAR-10 (assume using resnet18)\n",
    "model = resnet34()\n",
    "model.conv1 = nn.Conv2d(3, 64, kernel_size=3, stride=1, padding=1, bias=False)  # Adjusting first conv layer to accept 32x32 input\n",
    "model.maxpool = nn.Identity()  # Remove maxpool to keep dimensionality\n",
    "model.fc = nn.Linear(model.fc.in_features, 10)  # Adjusting final fully connected layer for 10 classes\n",
    "\n",
    "# Assuming use of a GPU if available\n",
    "device = torch.device(\"mps\")\n",
    "model.to(device)\n",
    "\n",
    "def evaluate_model(testing_model, dataloader, suppress_output=False):\n",
    "    testing_model.eval()\n",
    "    correct = 0\n",
    "    total = 0\n",
    "    with torch.no_grad():\n",
    "        for data in dataloader:\n",
    "            images, labels = data\n",
    "            images, labels = images.to(device), labels.to(device)\n",
    "            outputs = testing_model(images)\n",
    "            _, predicted = torch.max(outputs.data, 1)\n",
    "            total += labels.size(0)\n",
    "            correct += (predicted == labels).sum().item()\n",
    "\n",
    "    accuracy = 100 * correct / total\n",
    "    if not suppress_output:\n",
    "        print(f'Accuracy of the model on the test images: {accuracy}%')\n",
    "    return accuracy"
   ]
  },
  {
   "cell_type": "code",
   "execution_count": 2,
   "metadata": {},
   "outputs": [
    {
     "name": "stdout",
     "output_type": "stream",
     "text": [
      "Epoch 1, Batch 200: Loss: 2.0771\n",
      "\tAcc (Test data): 29.97\n",
      "Epoch 1, Batch 400: Loss: 1.8877\n",
      "\tAcc (Test data): 36.06\n",
      "Epoch 1, Batch 600: Loss: 1.7357\n",
      "\tAcc (Test data): 33.29\n",
      "Epoch 2, Batch 200: Loss: 1.6389\n",
      "\tAcc (Test data): 43.06\n",
      "Epoch 2, Batch 400: Loss: 1.5584\n",
      "\tAcc (Test data): 44.64\n",
      "Epoch 2, Batch 600: Loss: 1.5385\n",
      "\tAcc (Test data): 45.19\n",
      "Epoch 3, Batch 200: Loss: 1.4291\n",
      "\tAcc (Test data): 48.75\n",
      "Epoch 3, Batch 400: Loss: 1.3942\n",
      "\tAcc (Test data): 49.83\n",
      "Epoch 3, Batch 600: Loss: 1.3615\n",
      "\tAcc (Test data): 53.64\n",
      "Epoch 4, Batch 200: Loss: 1.2955\n",
      "\tAcc (Test data): 49.76\n",
      "Epoch 4, Batch 400: Loss: 1.2561\n",
      "\tAcc (Test data): 55.88\n",
      "Epoch 4, Batch 600: Loss: 1.2668\n",
      "\tAcc (Test data): 56.06\n",
      "Epoch 5, Batch 200: Loss: 1.1726\n",
      "\tAcc (Test data): 59.52\n",
      "Epoch 5, Batch 400: Loss: 1.1539\n",
      "\tAcc (Test data): 59.32\n",
      "Epoch 5, Batch 600: Loss: 1.1383\n",
      "\tAcc (Test data): 62.1\n",
      "Epoch 6, Batch 200: Loss: 1.0997\n",
      "\tAcc (Test data): 61.01\n",
      "Epoch 6, Batch 400: Loss: 1.0689\n",
      "\tAcc (Test data): 64.53\n",
      "Epoch 6, Batch 600: Loss: 1.0545\n",
      "\tAcc (Test data): 63.85\n",
      "Epoch 7, Batch 200: Loss: 1.0114\n",
      "\tAcc (Test data): 64.89\n",
      "Epoch 7, Batch 400: Loss: 1.0053\n",
      "\tAcc (Test data): 66.78\n",
      "Epoch 7, Batch 600: Loss: 0.9674\n",
      "\tAcc (Test data): 67.24\n",
      "Epoch 8, Batch 200: Loss: 0.9282\n",
      "\tAcc (Test data): 67.22\n",
      "Epoch 8, Batch 400: Loss: 0.9467\n",
      "\tAcc (Test data): 66.32\n",
      "Epoch 8, Batch 600: Loss: 0.9283\n",
      "\tAcc (Test data): 63.85\n",
      "Epoch 9, Batch 200: Loss: 0.8828\n",
      "\tAcc (Test data): 64.74\n",
      "Epoch 9, Batch 400: Loss: 0.8804\n",
      "\tAcc (Test data): 70.17\n",
      "Epoch 9, Batch 600: Loss: 0.8658\n",
      "\tAcc (Test data): 67.28\n",
      "Epoch 10, Batch 200: Loss: 0.8266\n",
      "\tAcc (Test data): 69.84\n",
      "Epoch 10, Batch 400: Loss: 0.8194\n",
      "\tAcc (Test data): 69.33\n",
      "Epoch 10, Batch 600: Loss: 0.8157\n",
      "\tAcc (Test data): 72.56\n",
      "Epoch 11, Batch 200: Loss: 0.8032\n",
      "\tAcc (Test data): 73.16\n",
      "Epoch 11, Batch 400: Loss: 0.7921\n",
      "\tAcc (Test data): 73.49\n",
      "Epoch 11, Batch 600: Loss: 0.7765\n",
      "\tAcc (Test data): 70.94\n",
      "Epoch 12, Batch 200: Loss: 0.7661\n",
      "\tAcc (Test data): 73.02\n",
      "Epoch 12, Batch 400: Loss: 0.7275\n",
      "\tAcc (Test data): 71.84\n",
      "Epoch 12, Batch 600: Loss: 0.7520\n",
      "\tAcc (Test data): 74.0\n",
      "Epoch 13, Batch 200: Loss: 0.7265\n",
      "\tAcc (Test data): 74.01\n",
      "Epoch 13, Batch 400: Loss: 0.7025\n",
      "\tAcc (Test data): 75.84\n",
      "Epoch 13, Batch 600: Loss: 0.7204\n",
      "\tAcc (Test data): 74.94\n",
      "Epoch 14, Batch 200: Loss: 0.6778\n",
      "\tAcc (Test data): 75.29\n",
      "Epoch 14, Batch 400: Loss: 0.6751\n",
      "\tAcc (Test data): 76.62\n",
      "Epoch 14, Batch 600: Loss: 0.6725\n",
      "\tAcc (Test data): 77.13\n",
      "Epoch 15, Batch 200: Loss: 0.6307\n",
      "\tAcc (Test data): 77.33\n",
      "Epoch 15, Batch 400: Loss: 0.6422\n",
      "\tAcc (Test data): 77.08\n",
      "Epoch 15, Batch 600: Loss: 0.6413\n",
      "\tAcc (Test data): 77.03\n",
      "Epoch 16, Batch 200: Loss: 0.6184\n",
      "\tAcc (Test data): 77.85\n",
      "Epoch 16, Batch 400: Loss: 0.6198\n",
      "\tAcc (Test data): 76.56\n",
      "Epoch 16, Batch 600: Loss: 0.6071\n",
      "\tAcc (Test data): 77.56\n",
      "Epoch 17, Batch 200: Loss: 0.5892\n",
      "\tAcc (Test data): 78.0\n",
      "Epoch 17, Batch 400: Loss: 0.5873\n",
      "\tAcc (Test data): 79.43\n",
      "Epoch 17, Batch 600: Loss: 0.5960\n",
      "\tAcc (Test data): 79.07\n",
      "Epoch 18, Batch 200: Loss: 0.5554\n",
      "\tAcc (Test data): 78.96\n",
      "Epoch 18, Batch 400: Loss: 0.5722\n",
      "\tAcc (Test data): 79.4\n",
      "Epoch 18, Batch 600: Loss: 0.5481\n",
      "\tAcc (Test data): 78.98\n",
      "Epoch 19, Batch 200: Loss: 0.5547\n",
      "\tAcc (Test data): 79.65\n",
      "Epoch 19, Batch 400: Loss: 0.5358\n",
      "\tAcc (Test data): 81.22\n",
      "Epoch 19, Batch 600: Loss: 0.5320\n",
      "\tAcc (Test data): 80.46\n",
      "Epoch 20, Batch 200: Loss: 0.5191\n",
      "\tAcc (Test data): 79.35\n",
      "Epoch 20, Batch 400: Loss: 0.5194\n",
      "\tAcc (Test data): 80.84\n",
      "Epoch 20, Batch 600: Loss: 0.5267\n",
      "\tAcc (Test data): 80.53\n",
      "Finished Training\n",
      "Accuracy of the model on the test images: 80.71%\n"
     ]
    },
    {
     "data": {
      "text/plain": [
       "80.71"
      ]
     },
     "execution_count": 2,
     "metadata": {},
     "output_type": "execute_result"
    }
   ],
   "source": [
    "import torch.optim as optim\n",
    "from torch import nn\n",
    "\n",
    "# Set up the loss function and optimizer\n",
    "criterion = nn.CrossEntropyLoss()\n",
    "optimizer = optim.SGD(model.parameters(), lr=0.001, momentum=0.9)\n",
    "# Define number of epochs\n",
    "num_epochs = 20\n",
    "\n",
    "for epoch in range(num_epochs):  # Loop over the dataset multiple times\n",
    "    running_loss = 0.0\n",
    "    for i, data in enumerate(trainloader, 0):\n",
    "        # Get the inputs; data is a list of [inputs, labels]\n",
    "        inputs, labels = data[0].to(device), data[1].to(device)\n",
    "\n",
    "        # Zero the parameter gradients\n",
    "        optimizer.zero_grad()\n",
    "\n",
    "        # Forward pass\n",
    "        outputs = model(inputs)\n",
    "        loss = criterion(outputs, labels)\n",
    "\n",
    "        # Backward and optimize\n",
    "        loss.backward()\n",
    "        optimizer.step()\n",
    "\n",
    "        # Print statistics\n",
    "        running_loss += loss.item()\n",
    "        if i % 200 == 199:    # Print every 200 mini-batches\n",
    "            print(f'Epoch {epoch + 1}, Batch {i + 1}: Loss: {running_loss / 200:.4f}')\n",
    "            print(f'\\tAcc (Test data): {evaluate_model(model, testloader, suppress_output=True)}')\n",
    "            running_loss = 0.0\n",
    "\n",
    "print('Finished Training')\n",
    "# torch.save(model.state_dict(), \"state\")\n",
    "\n",
    "# Evaluate the model\n",
    "evaluate_model(model, testloader)\n"
   ]
  },
  {
   "cell_type": "code",
   "execution_count": 3,
   "metadata": {},
   "outputs": [],
   "source": [
    "torch.save(model.state_dict(), \"state\")"
   ]
  },
  {
   "cell_type": "code",
   "execution_count": 4,
   "metadata": {},
   "outputs": [
    {
     "name": "stdout",
     "output_type": "stream",
     "text": [
      "Accuracy of the model on the test images: 80.71%\n"
     ]
    },
    {
     "data": {
      "text/plain": [
       "80.71"
      ]
     },
     "execution_count": 4,
     "metadata": {},
     "output_type": "execute_result"
    }
   ],
   "source": [
    "model = resnet34()  # Not using pre-trained weights\n",
    "model.conv1 = nn.Conv2d(3, 64, kernel_size=3, stride=1, padding=1, bias=False)  # Adjusting first conv layer to accept 32x32 input\n",
    "model.maxpool = nn.Identity()  # Remove maxpool to keep dimensionality\n",
    "model.fc = nn.Linear(model.fc.in_features, 10)  # Adjusting final fully connected layer for 10 classes\n",
    "model.to(device)\n",
    "model.load_state_dict(torch.load(\"state\"))\n",
    "evaluate_model(model, testloader)\n"
   ]
  },
  {
   "cell_type": "code",
   "execution_count": 5,
   "metadata": {},
   "outputs": [
    {
     "name": "stdout",
     "output_type": "stream",
     "text": [
      "Accuracy of the model on the test images: 79.45%\n",
      "Accuracy of the model on the test images: 79.85%\n",
      "Accuracy of the model on the test images: 79.84%\n",
      "Accuracy of the model on the test images: 79.42%\n",
      "Accuracy of the model on the test images: 78.44%\n",
      "Accuracy of the model on the test images: 80.1%\n",
      "Accuracy of the model on the test images: 75.72%\n",
      "Accuracy of the model on the test images: 76.06%\n",
      "Accuracy of the model on the test images: 76.59%\n",
      "Accuracy of the model on the test images: 77.32%\n",
      "Accuracy of the model on the test images: 78.18%\n",
      "Accuracy of the model on the test images: 78.25%\n",
      "Accuracy of the model on the test images: 73.58%\n",
      "Accuracy of the model on the test images: 75.03%\n",
      "Accuracy of the model on the test images: 73.62%\n",
      "Accuracy of the model on the test images: 76.28%\n",
      "Accuracy of the model on the test images: 72.96%\n",
      "Accuracy of the model on the test images: 73.78%\n",
      "Accuracy of the model on the test images: 68.46%\n",
      "Accuracy of the model on the test images: 71.58%\n",
      "Accuracy of the model on the test images: 69.16%\n",
      "Accuracy of the model on the test images: 71.55%\n",
      "Accuracy of the model on the test images: 68.72%\n",
      "Accuracy of the model on the test images: 72.77%\n",
      "Accuracy of the model on the test images: 63.06%\n",
      "Accuracy of the model on the test images: 61.28%\n",
      "Accuracy of the model on the test images: 68.82%\n",
      "Accuracy of the model on the test images: 71.38%\n",
      "Accuracy of the model on the test images: 69.58%\n",
      "Accuracy of the model on the test images: 59.98%\n"
     ]
    }
   ],
   "source": [
    "%load_ext autoreload\n",
    "%autoreload now\n",
    "import copy\n",
    "import pruning_funcs\n",
    "import numpy as np\n",
    "\n",
    "percent_prune = []\n",
    "percent_prune_with_bernoulli = []\n",
    "\n",
    "for percent in range(1,6):\n",
    "    pruned_model = copy.deepcopy(model)\n",
    "    pruning_funcs.percent_prune(pruned_model, device, percent=percent)\n",
    "    percent_prune.append(evaluate_model(pruned_model, testloader))\n",
    "\n",
    "    ppwb_runs = []\n",
    "    for i in range(5):\n",
    "        pruned_model_2 = copy.deepcopy(model)\n",
    "        pruning_funcs.percent_prune_with_bernoulli(pruned_model_2, device, percent=(2*percent), p_success=0.5)\n",
    "        ppwb_runs.append(evaluate_model(pruned_model_2, testloader))\n",
    "\n",
    "    percent_prune_with_bernoulli.append(np.mean(ppwb_runs))\n"
   ]
  },
  {
   "cell_type": "code",
   "execution_count": 6,
   "metadata": {},
   "outputs": [
    {
     "name": "stderr",
     "output_type": "stream",
     "text": [
      "/var/folders/r0/g630ksd54rzd5q60gtr3_k0w0000gn/T/ipykernel_95900/801749158.py:16: UserWarning: FigureCanvasAgg is non-interactive, and thus cannot be shown\n",
      "  fig.show()\n"
     ]
    },
    {
     "data": {
      "image/png": "[encoded data removed]",
      "text/plain": [
       "<Figure size 640x480 with 1 Axes>"
      ]
     },
     "metadata": {},
     "output_type": "display_data"
    }
   ],
   "source": [
    "import matplotlib.pyplot as plt\n",
    "import numpy as np\n",
    "\n",
    "percents = np.arange(1,6,1)\n",
    "\n",
    "fig, ax = plt.subplots()\n",
    "ax.set_title(\"Percent Pruning\")\n",
    "line1, = ax.plot(percents, percent_prune, color='blue')\n",
    "line2, = ax.plot(percents, percent_prune_with_bernoulli, color='orange')\n",
    "line1.set_label(\"Percent Pruning\")\n",
    "line2.set_label(\"Percent Pruning With Bernoulli (avg)\")\n",
    "ax.legend()\n",
    "ax.set_xlabel(\"Percent pruned (or expected pruned)\")\n",
    "ax.set_ylabel(\"Model accuracy\")\n",
    "ax.set_xticks(percents)\n",
    "fig.show()\n"
   ]
  },
  {
   "cell_type": "code",
   "execution_count": 7,
   "metadata": {},
   "outputs": [
    {
     "name": "stderr",
     "output_type": "stream",
     "text": [
      "/var/folders/r0/g630ksd54rzd5q60gtr3_k0w0000gn/T/ipykernel_95900/4192906960.py:21: UserWarning: FigureCanvasAgg is non-interactive, and thus cannot be shown\n",
      "  fig.show()\n"
     ]
    },
    {
     "data": {
      "image/png": "[encoded data removed]",
      "text/plain": [
       "<Figure size 640x480 with 1 Axes>"
      ]
     },
     "metadata": {},
     "output_type": "display_data"
    }
   ],
   "source": [
    "# Graph Laplace Distribution\n",
    "import numpy as np\n",
    "import matplotlib.pyplot as plt\n",
    "\n",
    "loc=0\n",
    "scale=0.5\n",
    "\n",
    "x = np.arange(-2, 2, 0.1)\n",
    "\n",
    "pdf = np.exp(-abs(x-loc)/scale)/(2.*scale)\n",
    "new_min = np.exp(-abs(1.-loc)/scale)/(2.*scale)\n",
    "x2 = np.arange(-1, 1, 0.1)\n",
    "modified_pdf = (np.exp(-abs(x2-loc)/scale)/(2.*scale) - np.exp(-abs(1.-loc)/scale)/(2.*scale)) / (1-new_min)\n",
    "\n",
    "fig, ax = plt.subplots()\n",
    "line1, = ax.plot(x, pdf)\n",
    "line1.set_label('Laplace')\n",
    "line2, = ax.plot(x2, modified_pdf)\n",
    "line2.set_label('Normalized Laplace')\n",
    "ax.legend()\n",
    "fig.show()\n"
   ]
  },
  {
   "cell_type": "code",
   "execution_count": 8,
   "metadata": {},
   "outputs": [
    {
     "name": "stdout",
     "output_type": "stream",
     "text": [
      "The autoreload extension is already loaded. To reload it, use:\n",
      "  %reload_ext autoreload\n",
      "Accuracy of the model on the test images: 10.0%\n"
     ]
    },
    {
     "data": {
      "text/plain": [
       "10.0"
      ]
     },
     "execution_count": 8,
     "metadata": {},
     "output_type": "execute_result"
    }
   ],
   "source": [
    "%load_ext autoreload\n",
    "%autoreload now\n",
    "import pruning_funcs\n",
    "\n",
    "pruned_model = copy.deepcopy(model)\n",
    "pruning_funcs.laplace_prune(pruned_model, device)\n",
    "evaluate_model(pruned_model, testloader)\n"
   ]
  },
  {
   "cell_type": "code",
   "execution_count": null,
   "metadata": {},
   "outputs": [],
   "source": []
  }
 ],
 "metadata": {
  "kernelspec": {
   "display_name": "env",
   "language": "python",
   "name": "python3"
  },
  "language_info": {
   "codemirror_mode": {
    "name": "ipython",
    "version": 3
   },
   "file_extension": ".py",
   "mimetype": "text/x-python",
   "name": "python",
   "nbconvert_exporter": "python",
   "pygments_lexer": "ipython3",
   "version": "3.12.3"
  }
 },
 "nbformat": 4,
 "nbformat_minor": 2
}
